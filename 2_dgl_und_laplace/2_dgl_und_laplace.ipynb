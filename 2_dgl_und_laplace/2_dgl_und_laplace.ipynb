{
 "cells": [
  {
   "cell_type": "markdown",
   "source": [
    "# 2. Differentialgleichungen\n",
    "\n",
    "Die nachfolgenden Übungsaufgaben sollen die mathematischen Grundlagen für die Beschreibung von dynamischen Bewegungen üben."
   ],
   "metadata": {
    "collapsed": false,
    "pycharm": {
     "name": "#%% md\n"
    }
   }
  },
  {
   "cell_type": "markdown",
   "source": [
    "## 2.1 Aufstellen von Bewegungsgleichungen\n",
    "<img src=\"../resourcen/bilder/2_skizzen_dyn_systeme.png\" width=500/>"
   ],
   "metadata": {
    "collapsed": false,
    "pycharm": {
     "name": "#%% md\n"
    }
   }
  },
  {
   "cell_type": "markdown",
   "source": [
    "### 2.1.a) Feder-Masse-Schwinger\n",
    "\n",
    "<img src=\"../resourcen/bilder/2_skizze_feder_masse_schwinger.png\" width=360>\n",
    "\n",
    "Stellen Sie die Bewegungsgleichung für den Feder-Masse-Schwinger auf, wenn gilt:\n",
    "\n",
    "$$\n",
    "\\begin{align}\n",
    "\tF_{Feder} &= k \\cdot z(t), \\\\\n",
    "\tF_{Daempfer} &= b \\cdot \\dot{z}(t), \\\\\n",
    "\tF_{Masse} &= m \\cdot \\ddot z(t)\n",
    "\\end{align}\n",
    "$$\n"
   ],
   "metadata": {
    "collapsed": false,
    "pycharm": {
     "name": "#%% md\n"
    }
   }
  },
  {
   "cell_type": "code",
   "execution_count": 2,
   "outputs": [
    {
     "name": "stderr",
     "output_type": "stream",
     "text": [
      "UsageError: Line magic function `%%manim` not found.\n"
     ]
    }
   ],
   "source": [
    "from manim import *\n",
    "\n",
    "config.media_width = \"75%\"\n",
    "config.verbosity = \"WARNING\"\n",
    "\n",
    "#@formatter:off\n",
    "%%manim -qm CircleToSquare\n",
    "#@formatter:on\n",
    "\n",
    "class CircleToSquare(Scene):\n",
    "    def construct(self):\n",
    "        blue_circle = Circle(color=BLUE, fill_opacity=0.5)\n",
    "        green_square = Square(color=GREEN, fill_opacity=0.8)\n",
    "        self.play(Create(blue_circle))\n",
    "        self.wait()\n",
    "\n",
    "        self.play(Transform(blue_circle, green_square))\n",
    "        self.wait()"
   ],
   "metadata": {
    "collapsed": false,
    "pycharm": {
     "name": "#%%\n"
    }
   }
  }
 ],
 "metadata": {
  "kernelspec": {
   "display_name": "Python 3",
   "language": "python",
   "name": "python3"
  },
  "language_info": {
   "codemirror_mode": {
    "name": "ipython",
    "version": 2
   },
   "file_extension": ".py",
   "mimetype": "text/x-python",
   "name": "python",
   "nbconvert_exporter": "python",
   "pygments_lexer": "ipython2",
   "version": "2.7.6"
  }
 },
 "nbformat": 4,
 "nbformat_minor": 0
}