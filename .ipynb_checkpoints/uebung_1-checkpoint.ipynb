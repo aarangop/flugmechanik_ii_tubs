{
 "cells": [
  {
   "cell_type": "markdown",
   "metadata": {
    "pycharm": {
     "name": "#%% md\n"
    },
    "slideshow": {
     "slide_type": "slide"
    }
   },
   "source": [
    "# 1. Schwerpunktverschiebung\n",
    "\n",
    "Während eines Fluges reduziert sich die Masse eines Verkehrsflugzeuges durch die Verbrennung einer großen Menge an Treibstoff. Aus der veränderten Massenverteilung resultiert eine veränderte Schwerpunktlage. Diese muss durch aerodynamische Maßnahmen bzw. Massetrimmung angepasst werden. Da aerodynamische Anpassungen mit einem Effizienzverlust verbunden sind, wird in Langstreckenflugzeugen, wie dem Airbus A340, die Schwerpunktlage durch zwei Fuel Control and Monitoring Computer (FCMC) überwacht und angepasst. Der optimale Schwerpunkt (Target CG, siehe <a href=#a343>Abb</a>) wird in Prozent der mittleren Flügeltiefe angegeben (%MAC).\n",
    "\n",
    "Ein A340-300 wird für einen Flug von München (EDDM) nach Washington (KIAD) eingesetzt. Die Flugstrecke beträgt 6800 km und die Flugzeit ist voraussichtlich 8 h 50 min. Die geplante Abflugmasse beträgt 213422 kg. Darin eingeschlossen sind 55434 kg Treibstoff und 24988 kg Passagiere und Ladung. Nach dem Steigflug auf FL255 wird der Automatic Fuel Transfer (AFT) aktiviert. Anschließend steigt das Flugzeug weiter bis auf FL380 und erreicht den Punkt \"Top Of Climb\" (TOC)."
   ]
  },
  {
   "cell_type": "markdown",
   "metadata": {
    "pycharm": {
     "name": "#%% md\n"
    },
    "slideshow": {
     "slide_type": "slide"
    }
   },
   "source": [
    "## Materialien\n",
    "![A340-300](resourcen/bilder/1_uebersicht_diagramme.png)\n",
    "<a name=a343>Abb. 1.1: A340-300</a>"
   ]
  },
  {
   "cell_type": "markdown",
   "metadata": {
    "pycharm": {
     "name": "#%% md\n"
    },
    "slideshow": {
     "slide_type": "subslide"
    }
   },
   "source": [
    "## <a name=\"nomenklatur\">Nomenklatur und Indizes</a>\n",
    "\n",
    "- $m$: Gesamtmasse\n",
    "- $m_f$: Treibstoffmasse (aus dem engl. Fuel)\n",
    "    - $m_{f_{C}}$: Treibstoffmasse im Center-Tank\n",
    "    - $m_{f_{I}}$: Treibstoffmasse im Inner-Tank\n",
    "    - $m_{f_{O}}$: Treibstoffmasse im Outer-Tank\n",
    "    - $m_{f_{T}}$: Treibstoffmasse im Trim-Tank\n",
    "- $m_s$: Masse Flugzeugstruktur\n",
    "- $m_{nl}$: Nutzlast (Pax, Gepäck und Fracht)\n",
    "- $m_{FG}$: Nutzlast + Flugzeugstruktur ($m_{FG} = m_{nl} + m_s$)"
   ]
  },
  {
   "cell_type": "markdown",
   "metadata": {
    "pycharm": {
     "name": "#%% md\n"
    },
    "slideshow": {
     "slide_type": "slide"
    }
   },
   "source": [
    "## 1.1 Momentengleichgewicht\n",
    "\n",
    "Nach 7 h 35 min wird der AFT deaktiviert. In dem Moment sind der CENTER-Tank und der TRIM-Tank bereits entleert. In den beiden OUTER-Tanks befinden sich insgesamt 4500 kg, in den beiden INNER-Tanks insgesamt 8000 kg Kerosin. Bestimmen Sie <mark>die optimale Schwerpunktlage $x_{cg}$</mark> in dieser Konfiguration und berechnen sie den <mark>Abstand zur Flugzeugnase in Flugzeuglängsrichtung $x_{FG}$</mark>, an dem die Gewichtskraft aus Summe von Struktur, Passagieren und Ladung angreift."
   ]
  },
  {
   "cell_type": "markdown",
   "metadata": {
    "pycharm": {
     "name": "#%% md\n"
    },
    "slideshow": {
     "slide_type": "subslide"
    }
   },
   "source": [
    "### 1.1 Momentengleichgewicht - Lösungsansatz\n",
    "<ol type=\"a\">\n",
    "      <li>$x_{cg}$...?</li>\n",
    "      <li>$x_{FG}$...?</li>\n",
    "</ol>\n",
    "\n",
    "Vorschläge?"
   ]
  },
  {
   "cell_type": "markdown",
   "metadata": {
    "pycharm": {
     "name": "#%% md\n"
    },
    "slideshow": {
     "slide_type": "subslide"
    }
   },
   "source": [
    "### 1.1 Momentengleichgewicht - Lösungsansatz\n",
    "\n",
    "<ol type=\"a\">\n",
    "      <li>$x_{cg}$: graphische Lösung mithilfe vom Diagramm</li>\n",
    "      <li>$x_{FG}$: analytische Lösung über Schwerpunktsatz: $$\n",
    "                x_{SP} = \\frac{\\sum_{i=1}^{n}M_i}{\\sum_{i=1}^{n}m_i} =  \\frac{\\sum_{i=1}^{n}x_i \\cdot m_i}{\\sum_{i=1}^{n}m_i}\n",
    "            $$</li>\n",
    "</ol>"
   ]
  },
  {
   "cell_type": "markdown",
   "metadata": {
    "pycharm": {
     "name": "#%% md\n"
    },
    "slideshow": {
     "slide_type": "subslide"
    }
   },
   "source": [
    "### 1.1 Momentengleichgewicht - Lösungsansatz\n",
    "Aus Aufgabenstellung:\n",
    "\n",
    "... Ein A340-300 wird für einen Flug von München (EDDM) nach Washington (KIAD) eingesetzt. Die Flugstrecke beträgt 6800 km und die Flugzeit ist voraussichtlich 8 h 50 min. Die geplante <mark>Abflugmasse beträgt 213422 kg</mark>. Darin eingeschlossen sind <mark>55434 kg Treibstoff</mark> und <mark>24988 kg Passagiere und Ladung</mark>. Nach dem Steigflug auf FL255 wird der Automatic Fuel Transfer (AFT) aktiviert. Anschließend steigt das Flugzeug weiter bis auf FL380 und erreicht den Punkt \"Top Of Climb\" (TOC).\n",
    "\n",
    "- Takeoff-Masse: $m_{TO} = 214422\\cdot\\text{kg}$\n",
    "- Treibstoffmasse Takeoff: $m_{f_{TO}} = 55434\\cdot\\text{kg}$\n",
    "- Masse Struktur und Pax: $m_{nl} = 24988\\cdot \\text{kg}$"
   ]
  },
  {
   "cell_type": "markdown",
   "metadata": {
    "pycharm": {
     "name": "#%% md\n"
    },
    "slideshow": {
     "slide_type": "subslide"
    }
   },
   "source": [
    "### 1.1.a $x_{cg}$ - Graphische Lösung\n",
    "\n",
    "Bestimmung der Strukturmasse aus Takeoff-Daten. Mit:\n",
    "\n",
    "\n",
    "$$\n",
    "\\begin{aligned}\n",
    "    m_{TO} &= m_{f_{TO}} + m_s + m_{nl} \\\\\n",
    "    m_s &= m_{TO} - m_{f_{TO}} - m_{nl} \\\\\n",
    "    m_s &= 133000 \\text{kg}\n",
    "\\end{aligned}\n",
    "$$\n",
    "\n",
    "Bestimmung der Gesamtmasse nach 7h35m Flugzeit:\n",
    "$$\n",
    "\\begin{aligned}\n",
    "    m &= m_f + m_{nl} + m_s \\\\\n",
    "    m &= 12500 \\text{kg} + 24988 \\text{kg} + 133000 \\text{kg} \\\\\n",
    "    m &= 170488 \\text{kg}\n",
    "\\end{aligned}\n",
    "$$"
   ]
  },
  {
   "cell_type": "markdown",
   "metadata": {
    "pycharm": {
     "name": "#%% md\n"
    },
    "slideshow": {
     "slide_type": "subslide"
    }
   },
   "source": [
    "### 1.1.a $x_{cg}$ - Graphische Lösung\n",
    "<img src=\"resourcen/bilder/1_1.1_opt_cg.png\" width=600/>"
   ]
  },
  {
   "cell_type": "markdown",
   "metadata": {
    "pycharm": {
     "name": "#%% md\n"
    },
    "slideshow": {
     "slide_type": "subslide"
    }
   },
   "source": [
    "### 1.1.a $x_{cg}$ - Ergebnis\n",
    "\n",
    "$$\n",
    "    x_{cg} \\approx 37,53\\text{m}\n",
    "$$"
   ]
  },
  {
   "cell_type": "markdown",
   "metadata": {
    "pycharm": {
     "name": "#%% md\n"
    },
    "slideshow": {
     "slide_type": "slide"
    }
   },
   "source": [
    "### 1.1.b $x_{FG}$ - Analytische Lösung über Schwerpunktsatz\n",
    "\n",
    "$$\n",
    "x_{SP} = \\frac{\\sum_{i=1}^{n}M_i}{\\sum_{i=1}^{n}m_i} =  \\frac{\\sum_{i=1}^{n}x_i \\cdot m_i}{\\sum_{i=1}^{n}m_i}x\n",
    "$$"
   ]
  },
  {
   "cell_type": "markdown",
   "metadata": {
    "pycharm": {
     "name": "#%% md\n"
    },
    "slideshow": {
     "slide_type": "subslide"
    }
   },
   "source": [
    "### 1.1.b $x_{FG}$ - Ergebnis\n",
    "\n",
    "$$\n",
    "x_{FG} = 37,96 \\text{m}\n",
    "$$"
   ]
  },
  {
   "cell_type": "markdown",
   "metadata": {
    "pycharm": {
     "name": "#%% md\n"
    },
    "slideshow": {
     "slide_type": "slide"
    }
   },
   "source": [
    "## 1.2 Gesamtmoment\n",
    "\n",
    "Wird der AFT aktiviert so benötigt das System einige Zeit um den optimalen Schwerpunkt einzuregeln. Am TOC beträgt die <mark>Treibstoffmasse 49500 kg</mark>. Kann das FCMC die optimale Schwerpunktlage hier schon einstellen? "
   ]
  },
  {
   "cell_type": "markdown",
   "metadata": {
    "pycharm": {
     "name": "#%% md\n"
    },
    "slideshow": {
     "slide_type": "subslide"
    }
   },
   "source": [
    "### 1.2 Gesamtmoment - Lösungsansatz\n",
    "\n",
    "Vorschläge?"
   ]
  },
  {
   "cell_type": "markdown",
   "metadata": {
    "pycharm": {
     "name": "#%% md\n"
    },
    "slideshow": {
     "slide_type": "subslide"
    }
   },
   "source": [
    "### 1.2 Gesamtmoment - Lösungsansatz\n",
    "<img src=\"resourcen/bilder/1.2_loesungsansatz.png\" alt=\"Lösungsansatz 1.2\" width=500/>"
   ]
  },
  {
   "cell_type": "markdown",
   "metadata": {
    "pycharm": {
     "name": "#%% md\n"
    },
    "slideshow": {
     "slide_type": "subslide"
    }
   },
   "source": [
    "### 1.2 Gesamtmoment - Optimale SP-Lage\n",
    "<img src=\"resourcen/bilder/1_1.2_opt_cg.png\" alt=\"Optimale SP-Lage TOC\" width=600/>\n"
   ]
  },
  {
   "cell_type": "markdown",
   "metadata": {
    "pycharm": {
     "name": "#%% md\n"
    },
    "slideshow": {
     "slide_type": "subslide"
    }
   },
   "source": [
    "### 1.2 Gesamtmoment - Treibstoffkapazität\n",
    "![Fuel Capacity](resourcen/bilder/1_fuel_capacity.png)"
   ]
  },
  {
   "cell_type": "markdown",
   "metadata": {
    "pycharm": {
     "name": "#%% md\n"
    },
    "slideshow": {
     "slide_type": "subslide"
    }
   },
   "source": [
    "### 1.2 Gesamtmoment - Ergebnis\n",
    "\n",
    "$$\n",
    "M > (M_f + M_{FG})\n",
    "$$\n",
    "\n",
    "<p align=\"center\">\n",
    "    Einstellung der optimalen SP-Lage zu diesem Zeitpunkt nicht möglich!\n",
    "</p>"
   ]
  },
  {
   "cell_type": "markdown",
   "metadata": {
    "pycharm": {
     "name": "#%% md\n"
    },
    "slideshow": {
     "slide_type": "slide"
    }
   },
   "source": [
    "## 1.3 Trimmasse\n",
    "Nach einer Flugzeit von 5h 44 min hat der A340-300 eine <mark>Treibstoffmasse von 20500 kg</mark> an Bord. Wieviel Treibstoff befinden sich im TRIM-Tank wenn die OUTER-Tanks noch voll gefüllt sind? Hinweis: Der CENTER-Tank ist leer."
   ]
  },
  {
   "cell_type": "markdown",
   "metadata": {
    "pycharm": {
     "name": "#%% md\n"
    },
    "slideshow": {
     "slide_type": "subslide"
    }
   },
   "source": [
    "### 1.3 Trimmasse - Lösungsansatz\n",
    "\n",
    "Vorschläge?"
   ]
  },
  {
   "cell_type": "markdown",
   "metadata": {
    "pycharm": {
     "name": "#%% md\n"
    },
    "slideshow": {
     "slide_type": "subslide"
    }
   },
   "source": [
    "### 1.3 Trimmasse - Lösungsansatz\n",
    "\n",
    "<img src=\"resourcen/bilder/1_3_loesungsansatz.png\" width=250/>"
   ]
  },
  {
   "cell_type": "markdown",
   "metadata": {
    "pycharm": {
     "name": "#%% md\n"
    },
    "slideshow": {
     "slide_type": "subslide"
    }
   },
   "source": [
    "### 1.3 Trimmasse - Optimale SP-Lage\n",
    "$$\n",
    "\\begin{aligned}\n",
    "m &= m_{f} + m_{FG} \\\\\n",
    "m_f &= 20500 \\text{kg} \\\\\n",
    "m_{FG} &= 157988 \\text{kg} \\\\\n",
    "m &= 178488 \\text{kg}\n",
    "\\end{aligned}\n",
    "$$\n"
   ]
  },
  {
   "cell_type": "markdown",
   "metadata": {
    "pycharm": {
     "name": "#%% md\n"
    },
    "slideshow": {
     "slide_type": "subslide"
    }
   },
   "source": [
    "### 1.3 Trimmasse - Optimale SP-Lage\n",
    "<img src=\"resourcen/bilder/1_1.3_opt_cg.png\" width=600>"
   ]
  },
  {
   "cell_type": "markdown",
   "metadata": {
    "pycharm": {
     "name": "#%% md\n"
    },
    "slideshow": {
     "slide_type": "subslide"
    }
   },
   "source": [
    "### <a name=1.3_opt_sp-lage> 1.3 Trimmasse - Optimale SP-Lage</a>\n",
    "\n",
    "$$\n",
    "\\begin{aligned}\n",
    "x_{cg} &= 7,23 \\text{m} \\cdot 41,3\\% \\text{MAC} + 34,53\\text{m}\\\\\n",
    "x_{cg} &= 37,53 \\text{m}\\\\\\\\\n",
    "\\text{Momente:}\\\\\n",
    "&\\text{Gesamtmoment:} \\\\\n",
    "M &= x_{cg} \\cdot m\\\\\n",
    "M &= 37,53 \\text{m} \\cdot 178488 \\text{kg}\\\\\n",
    "M &= 6'698.654,64 \\text{kg} \\cdot \\text{m}\\\\\n",
    "&\\text{Moment Struktur + Nutzlast:}\\\\\n",
    "M_{FG} &= x_{FG} \\cdot m_{FG} \\\\\n",
    "M_{FG} &= 37,96 \\text{m} \\cdot 157988 \\text{kg} \\\\\n",
    "M_{FG} &= 5'997.224 \\text{kg} \\cdot \\text{m}\n",
    "\\end{aligned}\n",
    "$$"
   ]
  },
  {
   "cell_type": "markdown",
   "metadata": {
    "pycharm": {
     "name": "#%% md\n"
    },
    "slideshow": {
     "slide_type": "subslide"
    }
   },
   "source": [
    "### 1.3 Trimmasse - Ergebnis\n",
    "$$\n",
    "m_{ft} = 1906,67 \\text{kg}\n",
    "$$"
   ]
  }
 ],
 "metadata": {
  "celltoolbar": "Slideshow",
  "kernelspec": {
   "display_name": "Python 3 (ipykernel)",
   "language": "python",
   "name": "python3"
  },
  "language_info": {
   "codemirror_mode": {
    "name": "ipython",
    "version": 3
   },
   "file_extension": ".py",
   "mimetype": "text/x-python",
   "name": "python",
   "nbconvert_exporter": "python",
   "pygments_lexer": "ipython3",
   "version": "3.10.6"
  }
 },
 "nbformat": 4,
 "nbformat_minor": 1
}
